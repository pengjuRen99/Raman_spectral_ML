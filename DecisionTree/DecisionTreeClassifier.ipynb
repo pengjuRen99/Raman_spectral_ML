{
 "cells": [
  {
   "cell_type": "code",
   "execution_count": 1,
   "id": "1dae23e1",
   "metadata": {},
   "outputs": [],
   "source": [
    "import os\n",
    "import numpy as np\n",
    "from sklearn.preprocessing import LabelEncoder\n",
    "from sklearn.model_selection import train_test_split"
   ]
  },
  {
   "cell_type": "code",
   "execution_count": 2,
   "id": "1fe10599",
   "metadata": {},
   "outputs": [],
   "source": [
    "import matplotlib.pyplot as plt"
   ]
  },
  {
   "cell_type": "code",
   "execution_count": 3,
   "id": "e432b9e4",
   "metadata": {},
   "outputs": [],
   "source": [
    "def load_spectrum_file(dir_path):\n",
    "    data = []\n",
    "    label = []\n",
    "    file_dir_list = os.listdir(dir_path)\n",
    "    for file_dir in file_dir_list:\n",
    "        file_list = os.listdir(dir_path + '/' + file_dir)\n",
    "        for filename in file_list:\n",
    "            file_path = dir_path + '/' + file_dir + '/' + filename\n",
    "            x, y = np.loadtxt(file_path, dtype=float, comments='#', delimiter=',', unpack=True)\n",
    "            data.append(y)\n",
    "            label.append(file_dir)\n",
    "    return data, label"
   ]
  },
  {
   "cell_type": "code",
   "execution_count": 16,
   "id": "595cb7df",
   "metadata": {},
   "outputs": [
    {
     "name": "stdout",
     "output_type": "stream",
     "text": [
      "Loading data...\n",
      "Completed!\n"
     ]
    }
   ],
   "source": [
    "print('Loading data...')\n",
    "dir_path = '../animal_blood/Transmissive_processed_data_padding'\n",
    "# dir_path = '../Dataset_1'\n",
    "data, label = load_spectrum_file(dir_path)\n",
    "data = np.array(data)\n",
    "le = LabelEncoder()\n",
    "labels = le.fit_transform(label)\n",
    "train_data, test_data, train_labels, test_labels = train_test_split(data, labels)\n",
    "print('Completed!')"
   ]
  },
  {
   "cell_type": "code",
   "execution_count": 17,
   "id": "404897e1",
   "metadata": {},
   "outputs": [
    {
     "data": {
      "image/png": "[encoded data removed]",
      "text/plain": [
       "<Figure size 432x288 with 1 Axes>"
      ]
     },
     "metadata": {
      "needs_background": "light"
     },
     "output_type": "display_data"
    }
   ],
   "source": [
    "from sklearn import tree\n",
    "import matplotlib.pyplot as plt\n",
    "\n",
    "max_depth = range(1, 200, 10)\n",
    "train_scores = []\n",
    "test_scores = []\n",
    "\n",
    "for i in max_depth:\n",
    "    clf = tree.DecisionTreeClassifier(criterion='gini'\n",
    "                                     , random_state=30\n",
    "                                     , splitter='random'\n",
    "                                     , max_depth=i\n",
    "                                     )\n",
    "    clf = clf.fit(train_data, train_labels)\n",
    "    train_score = clf.score(train_data, train_labels)\n",
    "    train_scores.append(train_score)\n",
    "    # print('train_score:', train_score)\n",
    "    test_score = clf.score(test_data, test_labels)\n",
    "    test_scores.append(test_score)\n",
    "    # print('test_score:', test_score)\n",
    "plt.plot(range(1, 200, 10), train_scores, color='black', label='train_score')\n",
    "plt.plot(range(1, 200, 10), test_scores, color='red', label='test_score')\n",
    "plt.legend()\n",
    "plt.show()"
   ]
  },
  {
   "cell_type": "code",
   "execution_count": 18,
   "id": "481b97b7",
   "metadata": {},
   "outputs": [
    {
     "name": "stdout",
     "output_type": "stream",
     "text": [
      "train_score: 0.9737654320987654\n",
      "test_score: 0.8211256746337703\n"
     ]
    }
   ],
   "source": [
    "clf = tree.DecisionTreeClassifier(criterion='gini'\n",
    "                                     , random_state=30\n",
    "                                     , splitter='random'\n",
    "                                     , max_depth=200\n",
    "                                     )\n",
    "clf = clf.fit(train_data, train_labels)\n",
    "train_score = clf.score(train_data, train_labels)\n",
    "print('train_score:', train_score)\n",
    "test_score = clf.score(test_data, test_labels)\n",
    "print('test_score:', test_score)\n",
    "\n",
    "# Dataset_1  0.8374\n",
    "# animal_blood_orginal_classify  0.7228\n",
    "# animal_blood_preprocessing_classify  0.8313\n",
    "# Reflective_processed_data_padding  0.8509\n",
    "# Transmissive_processed_data_padding  0.8211"
   ]
  },
  {
   "cell_type": "code",
   "execution_count": 19,
   "id": "babd41a1",
   "metadata": {},
   "outputs": [
    {
     "name": "stdout",
     "output_type": "stream",
     "text": [
      "train_score: 0.9737654320987654\n",
      "test_score: 0.8211256746337703\n"
     ]
    }
   ],
   "source": [
    "clf = tree.DecisionTreeClassifier(criterion='gini'\n",
    "                                     , random_state=30\n",
    "                                     , splitter='random'\n",
    "                                     , max_depth=200\n",
    "                                     , min_samples_split=2\n",
    "                                     , min_samples_leaf=1\n",
    "                                 )\n",
    "clf = clf.fit(train_data, train_labels)\n",
    "train_score = clf.score(train_data, train_labels)\n",
    "print('train_score:', train_score)\n",
    "test_score = clf.score(test_data, test_labels)\n",
    "print('test_score:', test_score)"
   ]
  },
  {
   "cell_type": "code",
   "execution_count": null,
   "id": "aa2af9c8",
   "metadata": {},
   "outputs": [],
   "source": []
  }
 ],
 "metadata": {
  "kernelspec": {
   "display_name": "Python 3 (ipykernel)",
   "language": "python",
   "name": "python3"
  },
  "language_info": {
   "codemirror_mode": {
    "name": "ipython",
    "version": 3
   },
   "file_extension": ".py",
   "mimetype": "text/x-python",
   "name": "python",
   "nbconvert_exporter": "python",
   "pygments_lexer": "ipython3",
   "version": "3.9.7"
  }
 },
 "nbformat": 4,
 "nbformat_minor": 5
}
