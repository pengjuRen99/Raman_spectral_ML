{
 "cells": [
  {
   "cell_type": "code",
   "execution_count": 1,
   "id": "9589e8ac",
   "metadata": {},
   "outputs": [],
   "source": [
    "import os\n",
    "import numpy as np\n",
    "from sklearn.preprocessing import LabelEncoder\n",
    "from sklearn.model_selection import train_test_split"
   ]
  },
  {
   "cell_type": "code",
   "execution_count": 2,
   "id": "1c2aec57",
   "metadata": {},
   "outputs": [],
   "source": [
    "def load_spectrum_file(dir_path):\n",
    "    data = []\n",
    "    label = []\n",
    "    file_dir_list = os.listdir(dir_path)\n",
    "    for file_dir in file_dir_list:\n",
    "        file_list = os.listdir(dir_path + '/' + file_dir)\n",
    "        for filename in file_list:\n",
    "            file_path = dir_path + '/' + file_dir + '/' + filename\n",
    "            x, y = np.loadtxt(file_path, dtype=float, comments='#', delimiter=',', unpack=True)\n",
    "            data.append(y)\n",
    "            label.append(file_dir)\n",
    "    return data, label"
   ]
  },
  {
   "cell_type": "code",
   "execution_count": 9,
   "id": "c9283767",
   "metadata": {},
   "outputs": [
    {
     "name": "stdout",
     "output_type": "stream",
     "text": [
      "Loading data...\n",
      "Completed!\n"
     ]
    }
   ],
   "source": [
    "print('Loading data...')\n",
    "dir_path = '../animal_blood/Transmissive_processed_data_padding'\n",
    "# dir_path = '../Dataset_1'\n",
    "data, label = load_spectrum_file(dir_path)\n",
    "data = np.array(data)\n",
    "le = LabelEncoder()\n",
    "labels = le.fit_transform(label)\n",
    "train_data, test_data, train_labels, test_labels = train_test_split(data, labels)\n",
    "print('Completed!')"
   ]
  },
  {
   "cell_type": "code",
   "execution_count": 10,
   "id": "1a55a7ed",
   "metadata": {},
   "outputs": [
    {
     "name": "stderr",
     "output_type": "stream",
     "text": [
      "/Users/renpengju/opt/anaconda3/lib/python3.9/site-packages/sklearn/model_selection/_split.py:676: UserWarning: The least populated class in y has only 1 members, which is less than n_splits=10.\n",
      "  warnings.warn(\n"
     ]
    },
    {
     "name": "stdout",
     "output_type": "stream",
     "text": [
      "rfc_score: 0.8110971973762672\n"
     ]
    }
   ],
   "source": [
    "from sklearn.ensemble import RandomForestClassifier\n",
    "from sklearn.model_selection import cross_val_score\n",
    "\n",
    "rfc = RandomForestClassifier(criterion='gini'\n",
    "                            , n_estimators=110\n",
    "                            , random_state=90)\n",
    "rfc = rfc.fit(train_data, train_labels)\n",
    "rfc_score = cross_val_score(rfc, test_data, test_labels, cv=10).mean()\n",
    "print('rfc_score:', rfc_score)\n",
    "\n",
    "# Dataset_1  0.8738\n",
    "# animal_blood_orginal_classify  0.5777\n",
    "# animal_blood_preprocessing_classify 0.9305\n",
    "# Reflective_processed_data_padding  0.7767\n",
    "# Transmissive_processed_data_padding  0.81109"
   ]
  },
  {
   "cell_type": "code",
   "execution_count": null,
   "id": "8ef1872a",
   "metadata": {},
   "outputs": [],
   "source": []
  }
 ],
 "metadata": {
  "kernelspec": {
   "display_name": "Python 3 (ipykernel)",
   "language": "python",
   "name": "python3"
  },
  "language_info": {
   "codemirror_mode": {
    "name": "ipython",
    "version": 3
   },
   "file_extension": ".py",
   "mimetype": "text/x-python",
   "name": "python",
   "nbconvert_exporter": "python",
   "pygments_lexer": "ipython3",
   "version": "3.9.7"
  }
 },
 "nbformat": 4,
 "nbformat_minor": 5
}
