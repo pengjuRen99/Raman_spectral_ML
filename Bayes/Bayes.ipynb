{
 "cells": [
  {
   "cell_type": "code",
   "execution_count": 1,
   "id": "a2577f7a",
   "metadata": {},
   "outputs": [],
   "source": [
    "import os\n",
    "import numpy as np\n",
    "from sklearn.preprocessing import LabelEncoder\n",
    "from sklearn.model_selection import train_test_split"
   ]
  },
  {
   "cell_type": "code",
   "execution_count": 2,
   "id": "af646f06",
   "metadata": {},
   "outputs": [],
   "source": [
    "from sklearn.naive_bayes import GaussianNB\n",
    "import matplotlib.pyplot as plt"
   ]
  },
  {
   "cell_type": "code",
   "execution_count": 3,
   "id": "e0b0a5cd",
   "metadata": {},
   "outputs": [],
   "source": [
    "def load_spectrum_flie(dir_path):\n",
    "    data = []\n",
    "    label = []\n",
    "    file_dir_list = os.listdir(dir_path)\n",
    "    for file_dir in file_dir_list:\n",
    "        file_list = os.listdir(dir_path + '/' + file_dir)\n",
    "        for filename in file_list:\n",
    "            file_path = dir_path + '/' + file_dir + '/' + filename\n",
    "            x, y = np.loadtxt(file_path, dtype=float, comments='#', delimiter=',', unpack=True)\n",
    "            data.append(y)\n",
    "            label.append(file_dir)\n",
    "    return data, label"
   ]
  },
  {
   "cell_type": "code",
   "execution_count": 68,
   "id": "929d2bc2",
   "metadata": {},
   "outputs": [
    {
     "name": "stdout",
     "output_type": "stream",
     "text": [
      "Loading data...\n",
      "Completed!\n"
     ]
    }
   ],
   "source": [
    "print('Loading data...')\n",
    "dir_path = '../animal_blood/Transmissive_processed_data_padding'\n",
    "# dir_path = '../Dataset_1'\n",
    "data, label = load_spectrum_flie(dir_path)\n",
    "data = np.array(data)\n",
    "le = LabelEncoder()\n",
    "labels = le.fit_transform(label)\n",
    "train_data, test_data, train_labels, test_labels = train_test_split(data, labels, train_size=0.7, test_size=0.3, stratify=labels, shuffle=True)\n",
    "print(\"Completed!\")"
   ]
  },
  {
   "cell_type": "code",
   "execution_count": 69,
   "id": "0cc5b205",
   "metadata": {},
   "outputs": [
    {
     "name": "stdout",
     "output_type": "stream",
     "text": [
      "Accuracy: 0.4588688946015424\n"
     ]
    }
   ],
   "source": [
    "gnb = GaussianNB().fit(train_data, train_labels)\n",
    "acc_score = gnb.score(test_data, test_labels)           # 0.8249\n",
    "print(\"Accuracy:\", acc_score)\n",
    "\n",
    "# Dataset_1  0.8255\n",
    "# animal_blood_orginal_classify  0.4343\n",
    "# animal_blood_preprocessing_classify  0.9393\n",
    "# Reflective_processed_data_padding  0.2989\n",
    "# Transmissive_processed_data_padding  0.4588"
   ]
  },
  {
   "cell_type": "code",
   "execution_count": 48,
   "id": "b727c065",
   "metadata": {},
   "outputs": [
    {
     "data": {
      "text/plain": [
       "array([ 0, 32, 36, ..., 30, 30, 14])"
      ]
     },
     "execution_count": 48,
     "metadata": {},
     "output_type": "execute_result"
    }
   ],
   "source": [
    "# 查看预测结果\n",
    "Y_pred = gnb.predict(test_data)\n",
    "Y_pred"
   ]
  },
  {
   "cell_type": "code",
   "execution_count": 49,
   "id": "6a47b89f",
   "metadata": {},
   "outputs": [
    {
     "data": {
      "text/plain": [
       "(1569, 46)"
      ]
     },
     "execution_count": 49,
     "metadata": {},
     "output_type": "execute_result"
    }
   ],
   "source": [
    "# 预测的概率结果\n",
    "prob = gnb.predict_proba(test_data)\n",
    "prob.shape"
   ]
  },
  {
   "cell_type": "code",
   "execution_count": 50,
   "id": "91bfb222",
   "metadata": {},
   "outputs": [
    {
     "data": {
      "text/plain": [
       "1.0"
      ]
     },
     "execution_count": 50,
     "metadata": {},
     "output_type": "execute_result"
    }
   ],
   "source": [
    "prob[1, :].sum()"
   ]
  },
  {
   "cell_type": "code",
   "execution_count": 51,
   "id": "4c9e40d5",
   "metadata": {},
   "outputs": [
    {
     "data": {
      "text/plain": [
       "array([1., 1., 1., ..., 1., 1., 1.])"
      ]
     },
     "execution_count": 51,
     "metadata": {},
     "output_type": "execute_result"
    }
   ],
   "source": [
    "# 每一行的和都是一\n",
    "prob.sum(axis=1)"
   ]
  },
  {
   "cell_type": "code",
   "execution_count": 52,
   "id": "996b2a98",
   "metadata": {},
   "outputs": [
    {
     "data": {
      "text/plain": [
       "array([[11,  0,  0, ...,  0,  0,  2],\n",
       "       [ 0,  0,  3, ...,  5,  0, 10],\n",
       "       [ 0,  0, 19, ...,  9,  0,  0],\n",
       "       ...,\n",
       "       [ 0,  0,  2, ..., 18,  0,  0],\n",
       "       [ 0,  0,  0, ...,  0,  9,  0],\n",
       "       [ 0,  1,  0, ...,  0,  0, 14]])"
      ]
     },
     "execution_count": 52,
     "metadata": {},
     "output_type": "execute_result"
    }
   ],
   "source": [
    "# 混淆矩阵查看贝叶斯分类结果\n",
    "from sklearn.metrics import confusion_matrix as CM\n",
    "CM(test_labels, Y_pred)"
   ]
  },
  {
   "cell_type": "code",
   "execution_count": 53,
   "id": "f7a55107",
   "metadata": {},
   "outputs": [],
   "source": [
    "# 定义绘制学习曲线函数\n",
    "def plot_learning_curve(estimator, title, X, y\n",
    "                       , ax\n",
    "                       , ylim = None\n",
    "                       , cv = None\n",
    "                       , n_jobs = None):\n",
    "    train_sizes, train_scores, test_scores = learning_curve(estimator\n",
    "                                                           , X, y\n",
    "                                                           , cv=cv\n",
    "                                                           , n_jobs=n_jobs)\n",
    "    ax.set_title(title)\n",
    "    if ylim is not None:\n",
    "        ax.set_ylim(*ylim)\n",
    "    ax.set_xlabel('Training examples')\n",
    "    ax.set_ylabel('Score')\n",
    "    ax.grid()\n",
    "    ax.plot(train_sizes, np.mean(train_scores, axis=1), 'o-'\n",
    "           , color='r', label='Training score')\n",
    "    ax.plot(train_sizes, np.mean(test_scores, axis=1), 'o-'\n",
    "           , color='g', label='Test score')\n",
    "    ax.legend(loc='best')\n",
    "    return ax"
   ]
  },
  {
   "cell_type": "code",
   "execution_count": 54,
   "id": "fd307129",
   "metadata": {},
   "outputs": [],
   "source": [
    "from sklearn.model_selection import ShuffleSplit\n",
    "from sklearn.model_selection import learning_curve\n",
    "title = 'Naive Bayes'\n",
    "model = GaussianNB()\n",
    "cv = ShuffleSplit(n_splits=50, test_size=0.2, random_state=0)"
   ]
  },
  {
   "cell_type": "code",
   "execution_count": 55,
   "id": "dd4e6869",
   "metadata": {},
   "outputs": [
    {
     "name": "stderr",
     "output_type": "stream",
     "text": [
      "/Users/renpengju/opt/anaconda3/lib/python3.9/site-packages/joblib/externals/loky/process_executor.py:702: UserWarning: A worker stopped while some jobs were given to the executor. This can be caused by a too short worker timeout or by a memory leak.\n",
      "  warnings.warn(\n"
     ]
    },
    {
     "data": {
      "image/png": "[encoded data removed]",
      "text/plain": [
       "<Figure size 576x432 with 1 Axes>"
      ]
     },
     "metadata": {
      "needs_background": "light"
     },
     "output_type": "display_data"
    }
   ],
   "source": [
    "# 绘制学习曲线\n",
    "fig, axes = plt.subplots(figsize=(8, 6))\n",
    "plot_learning_curve(model, title, data, labels\n",
    "                   , ax=axes, ylim=[0.7, 1.05]\n",
    "                   , n_jobs=4, cv=cv)\n",
    "plt.show()"
   ]
  },
  {
   "cell_type": "code",
   "execution_count": 56,
   "id": "ca3d839e",
   "metadata": {},
   "outputs": [
    {
     "data": {
      "text/plain": [
       "23.989627371292844"
      ]
     },
     "execution_count": 56,
     "metadata": {},
     "output_type": "execute_result"
    }
   ],
   "source": [
    "# 对数似然函数\n",
    "from sklearn.metrics import log_loss\n",
    "log_loss(test_labels, prob)"
   ]
  },
  {
   "cell_type": "code",
   "execution_count": 57,
   "id": "e4b99809",
   "metadata": {},
   "outputs": [],
   "source": [
    "prob_pos = gnb.predict_proba(test_data)[:, 1]"
   ]
  },
  {
   "cell_type": "code",
   "execution_count": 58,
   "id": "1aad3626",
   "metadata": {},
   "outputs": [],
   "source": [
    "import pandas as pd\n",
    "df = pd.DataFrame({'ytrue': test_labels[:500], 'probability': prob_pos[:500]})"
   ]
  },
  {
   "cell_type": "code",
   "execution_count": 59,
   "id": "83e14d32",
   "metadata": {},
   "outputs": [],
   "source": [
    "# 多项式贝叶斯\n",
    "from sklearn.naive_bayes import MultinomialNB\n",
    "from sklearn.preprocessing import MinMaxScaler"
   ]
  },
  {
   "cell_type": "code",
   "execution_count": 60,
   "id": "e7fa8a9d",
   "metadata": {},
   "outputs": [],
   "source": [
    "mms = MinMaxScaler().fit(train_data)\n",
    "Xtrain_ = mms.transform(train_data)\n",
    "Xtest_ = mms.transform(test_data)"
   ]
  },
  {
   "cell_type": "code",
   "execution_count": 61,
   "id": "1bd63986",
   "metadata": {},
   "outputs": [],
   "source": [
    "mnb = MultinomialNB().fit(Xtrain_, train_labels)\n"
   ]
  },
  {
   "cell_type": "code",
   "execution_count": 62,
   "id": "dc2112d6",
   "metadata": {
    "scrolled": true
   },
   "outputs": [
    {
     "data": {
      "text/plain": [
       "array([-3.53238959, -3.95672318, -3.95672318, -5.16069599, -3.55125808,\n",
       "       -3.29256354, -3.95672318, -2.86768035, -3.98571072, -3.95672318,\n",
       "       -5.16069599, -3.55125808, -3.57048944, -3.55125808, -3.61009858,\n",
       "       -3.55125808, -3.55125808, -5.16069599, -5.16069599, -5.16069599,\n",
       "       -3.57048944, -5.16069599, -3.55125808, -5.0271646 , -5.16069599,\n",
       "       -3.95672318, -3.59009791, -5.16069599, -3.55125808, -3.55125808,\n",
       "       -5.16069599, -3.55125808, -3.55125808, -3.55125808, -3.263576  ,\n",
       "       -3.95672318, -3.95672318, -5.16069599, -3.57048944, -3.64087023,\n",
       "       -3.2852375 , -3.55125808, -3.82319179, -3.55125808, -5.16069599,\n",
       "       -3.97111192])"
      ]
     },
     "execution_count": 62,
     "metadata": {},
     "output_type": "execute_result"
    }
   ],
   "source": [
    "mnb.class_log_prior_"
   ]
  },
  {
   "cell_type": "code",
   "execution_count": 63,
   "id": "48f60128",
   "metadata": {},
   "outputs": [
    {
     "data": {
      "text/plain": [
       "array([ 0,  1,  2,  3,  4,  5,  6,  7,  8,  9, 10, 11, 12, 13, 14, 15, 16,\n",
       "       17, 18, 19, 20, 21, 22, 23, 24, 25, 26, 27, 28, 29, 30, 31, 32, 33,\n",
       "       34, 35, 36, 37, 38, 39, 40, 41, 42, 43, 44, 45])"
      ]
     },
     "execution_count": 63,
     "metadata": {},
     "output_type": "execute_result"
    }
   ],
   "source": [
    "np.unique(train_labels)"
   ]
  },
  {
   "cell_type": "code",
   "execution_count": 64,
   "id": "217c5d48",
   "metadata": {},
   "outputs": [
    {
     "data": {
      "text/plain": [
       "0.4875717017208413"
      ]
     },
     "execution_count": 64,
     "metadata": {},
     "output_type": "execute_result"
    }
   ],
   "source": [
    "mnb.score(Xtest_, test_labels)\n",
    "\n",
    "# animal_blood_orginal_classify  0.7474\n",
    "# animal_blood_preprocessing_classify  0.9292\n",
    "# Reflective_processed_data_padding  0.4875"
   ]
  },
  {
   "cell_type": "code",
   "execution_count": 66,
   "id": "36f0fdd0",
   "metadata": {},
   "outputs": [
    {
     "data": {
      "text/plain": [
       "0.05736137667304015"
      ]
     },
     "execution_count": 66,
     "metadata": {},
     "output_type": "execute_result"
    }
   ],
   "source": [
    "# 伯努利朴素贝叶斯\n",
    "from sklearn.naive_bayes import BernoulliNB\n",
    "\n",
    "bnl_ = BernoulliNB().fit(Xtrain_, train_labels)\n",
    "bnl_.score(Xtest_, test_labels)"
   ]
  },
  {
   "cell_type": "code",
   "execution_count": 67,
   "id": "f14c268f",
   "metadata": {},
   "outputs": [
    {
     "data": {
      "text/plain": [
       "0.15487571701720843"
      ]
     },
     "execution_count": 67,
     "metadata": {},
     "output_type": "execute_result"
    }
   ],
   "source": [
    "bnl = BernoulliNB(binarize=0.5).fit(Xtrain_, train_labels)\n",
    "bnl.score(Xtest_, test_labels)"
   ]
  },
  {
   "cell_type": "code",
   "execution_count": null,
   "id": "eaed2a82",
   "metadata": {},
   "outputs": [],
   "source": []
  },
  {
   "cell_type": "code",
   "execution_count": null,
   "id": "56e2ce14",
   "metadata": {},
   "outputs": [],
   "source": []
  }
 ],
 "metadata": {
  "kernelspec": {
   "display_name": "Python 3 (ipykernel)",
   "language": "python",
   "name": "python3"
  },
  "language_info": {
   "codemirror_mode": {
    "name": "ipython",
    "version": 3
   },
   "file_extension": ".py",
   "mimetype": "text/x-python",
   "name": "python",
   "nbconvert_exporter": "python",
   "pygments_lexer": "ipython3",
   "version": "3.9.7"
  }
 },
 "nbformat": 4,
 "nbformat_minor": 5
}
