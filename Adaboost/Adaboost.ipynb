{
 "cells": [
  {
   "cell_type": "code",
   "execution_count": 1,
   "id": "696f3d88",
   "metadata": {},
   "outputs": [],
   "source": [
    "import os\n",
    "import numpy as np\n",
    "from sklearn.preprocessing import LabelEncoder\n",
    "from sklearn.model_selection import train_test_split"
   ]
  },
  {
   "cell_type": "code",
   "execution_count": 2,
   "id": "bb850f70",
   "metadata": {},
   "outputs": [],
   "source": [
    "import matplotlib.pyplot as plt"
   ]
  },
  {
   "cell_type": "code",
   "execution_count": 3,
   "id": "63306b1c",
   "metadata": {},
   "outputs": [],
   "source": [
    "def load_spectrum_file(dir_path):\n",
    "    data = []\n",
    "    label = []\n",
    "    file_dir_list = os.listdir(dir_path)\n",
    "    for file_dir in file_dir_list:\n",
    "        file_list = os.listdir(dir_path + '/' + file_dir)\n",
    "        for filename in file_list:\n",
    "            file_path = dir_path + '/' + file_dir + '/' + filename\n",
    "            x, y = np.loadtxt(file_path, dtype=float, comments='#', delimiter=',', unpack=True)\n",
    "            data.append(y)\n",
    "            label.append(file_dir)\n",
    "    return data, label"
   ]
  },
  {
   "cell_type": "code",
   "execution_count": 11,
   "id": "f69719bc",
   "metadata": {},
   "outputs": [
    {
     "name": "stdout",
     "output_type": "stream",
     "text": [
      "Loading data...\n",
      "Completed!\n"
     ]
    }
   ],
   "source": [
    "print('Loading data...')\n",
    "dir_path = '../animal_blood/Transmissive_processed_data_padding'\n",
    "# dir_path = '../Dataset_1'\n",
    "data, label = load_spectrum_file(dir_path)\n",
    "data = np.array(data)\n",
    "le = LabelEncoder()\n",
    "labels = le.fit_transform(label)\n",
    "train_data, test_data, train_labels, test_labels = train_test_split(data, labels)\n",
    "print('Completed!')"
   ]
  },
  {
   "cell_type": "code",
   "execution_count": 12,
   "id": "deac7227",
   "metadata": {},
   "outputs": [
    {
     "name": "stdout",
     "output_type": "stream",
     "text": [
      "score: 0.8758673862760216\n"
     ]
    }
   ],
   "source": [
    "from sklearn.ensemble import AdaBoostClassifier\n",
    "from sklearn import tree\n",
    "\n",
    "clf = AdaBoostClassifier(tree.DecisionTreeClassifier(criterion='gini'\n",
    "                                     , random_state=30\n",
    "                                     , splitter='random'\n",
    "                                     , max_depth=200\n",
    "                                     , min_samples_split=2\n",
    "                                     , min_samples_leaf=1\n",
    "                                 )\n",
    "                         , n_estimators=50, algorithm='SAMME', learning_rate=1)\n",
    "clf.fit(train_data, train_labels)\n",
    "pred = clf.predict(test_data)\n",
    "accuracy = (test_labels == pred).sum() / test_labels.shape\n",
    "print('score:', clf.score(test_data, test_labels))"
   ]
  },
  {
   "cell_type": "code",
   "execution_count": null,
   "id": "66bec59d",
   "metadata": {},
   "outputs": [],
   "source": [
    "# Dataset_1  0.8367\n",
    "# animal_blood_preprocessing_classify  0.8674\n",
    "# animal_blood_orginal_classify  0.7469\n",
    "# Reflective_processed_data_padding  0.8539\n",
    "# Transmissive_processed_data_padding  0.8758"
   ]
  },
  {
   "cell_type": "code",
   "execution_count": 19,
   "id": "ecb320bb",
   "metadata": {},
   "outputs": [
    {
     "name": "stdout",
     "output_type": "stream",
     "text": [
      "Loading data...\n",
      "Completed!\n"
     ]
    }
   ],
   "source": [
    "print('Loading data...')\n",
    "# dir_path = '../animal_blood/animal_blood_orginal_classify'\n",
    "dir_path = '../Dataset_1'\n",
    "data, label = load_spectrum_file(dir_path)\n",
    "data = np.array(data)\n",
    "le = LabelEncoder()\n",
    "labels = le.fit_transform(label)\n",
    "train_data, test_data, train_labels, test_labels = train_test_split(data, labels)\n",
    "print('Completed!')"
   ]
  },
  {
   "cell_type": "code",
   "execution_count": 14,
   "id": "d88ad267",
   "metadata": {},
   "outputs": [
    {
     "data": {
      "text/plain": [
       "(3969, 1570)"
      ]
     },
     "execution_count": 14,
     "metadata": {},
     "output_type": "execute_result"
    }
   ],
   "source": [
    "train_data.shape"
   ]
  },
  {
   "cell_type": "code",
   "execution_count": 20,
   "id": "ee6fd5d6",
   "metadata": {},
   "outputs": [
    {
     "data": {
      "text/plain": [
       "(1570,)"
      ]
     },
     "execution_count": 20,
     "metadata": {},
     "output_type": "execute_result"
    }
   ],
   "source": [
    "train_data[0].shape"
   ]
  },
  {
   "cell_type": "code",
   "execution_count": 26,
   "id": "12f161c4",
   "metadata": {},
   "outputs": [
    {
     "data": {
      "text/plain": [
       "array([138,  13, 175, ...,  41,  81,  40])"
      ]
     },
     "execution_count": 26,
     "metadata": {},
     "output_type": "execute_result"
    }
   ],
   "source": [
    "train_labels"
   ]
  },
  {
   "cell_type": "code",
   "execution_count": 16,
   "id": "b93f556a",
   "metadata": {},
   "outputs": [
    {
     "name": "stdout",
     "output_type": "stream",
     "text": [
      "Loading data...\n",
      "Completed!\n"
     ]
    }
   ],
   "source": [
    "print('Loading data...')\n",
    "dir_path = '../animal_blood/animal_blood_orginal_classify'\n",
    "# dir_path = '../Dataset_1'\n",
    "data, label = load_spectrum_file(dir_path)\n",
    "data = np.array(data)\n",
    "le = LabelEncoder()\n",
    "labels = le.fit_transform(label)\n",
    "train_data, test_data, train_labels, test_labels = train_test_split(data, labels)\n",
    "print('Completed!')"
   ]
  },
  {
   "cell_type": "code",
   "execution_count": 17,
   "id": "aba6baf6",
   "metadata": {},
   "outputs": [
    {
     "data": {
      "text/plain": [
       "(247, 637)"
      ]
     },
     "execution_count": 17,
     "metadata": {},
     "output_type": "execute_result"
    }
   ],
   "source": [
    "train_data.shape"
   ]
  },
  {
   "cell_type": "code",
   "execution_count": 18,
   "id": "80e8dbeb",
   "metadata": {},
   "outputs": [
    {
     "data": {
      "text/plain": [
       "(637,)"
      ]
     },
     "execution_count": 18,
     "metadata": {},
     "output_type": "execute_result"
    }
   ],
   "source": [
    "train_data[0].shape"
   ]
  },
  {
   "cell_type": "code",
   "execution_count": null,
   "id": "58e754c9",
   "metadata": {},
   "outputs": [],
   "source": []
  }
 ],
 "metadata": {
  "kernelspec": {
   "display_name": "Python 3 (ipykernel)",
   "language": "python",
   "name": "python3"
  },
  "language_info": {
   "codemirror_mode": {
    "name": "ipython",
    "version": 3
   },
   "file_extension": ".py",
   "mimetype": "text/x-python",
   "name": "python",
   "nbconvert_exporter": "python",
   "pygments_lexer": "ipython3",
   "version": "3.9.7"
  }
 },
 "nbformat": 4,
 "nbformat_minor": 5
}
