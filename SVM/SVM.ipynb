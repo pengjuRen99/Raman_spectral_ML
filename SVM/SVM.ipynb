{
 "cells": [
  {
   "cell_type": "code",
   "execution_count": 2,
   "id": "c1718cb9",
   "metadata": {},
   "outputs": [],
   "source": [
    "import os\n",
    "import numpy as np\n",
    "from sklearn.preprocessing import LabelEncoder\n",
    "from sklearn.model_selection import train_test_split"
   ]
  },
  {
   "cell_type": "code",
   "execution_count": 3,
   "id": "ae95c818",
   "metadata": {},
   "outputs": [],
   "source": [
    "import matplotlib.pyplot as plt"
   ]
  },
  {
   "cell_type": "code",
   "execution_count": 4,
   "id": "693f21ac",
   "metadata": {},
   "outputs": [],
   "source": [
    "def load_spectrum_file(dir_path):\n",
    "    data = []\n",
    "    label = []\n",
    "    file_dir_list = os.listdir(dir_path)\n",
    "    for file_dir in file_dir_list:\n",
    "        file_list = os.listdir(dir_path + '/' + file_dir)\n",
    "        for filename in file_list:\n",
    "            file_path = dir_path + '/' + file_dir + '/' + filename\n",
    "            x, y = np.loadtxt(file_path, dtype=float, comments='#', delimiter=',', unpack=True)\n",
    "            data.append(y)\n",
    "            label.append(file_dir)\n",
    "    return data, label"
   ]
  },
  {
   "cell_type": "code",
   "execution_count": 30,
   "id": "eb2d6cf2",
   "metadata": {},
   "outputs": [
    {
     "name": "stdout",
     "output_type": "stream",
     "text": [
      "Loading data...\n",
      "Completed!\n"
     ]
    }
   ],
   "source": [
    "print('Loading data...')\n",
    "dir_path = '../animal_blood/Transmissive_processed_data_padding'\n",
    "# dir_path = '../Dataset_1'\n",
    "data, label = load_spectrum_file(dir_path)\n",
    "data = np.array(data)\n",
    "le = LabelEncoder()\n",
    "labels = le.fit_transform(label)\n",
    "train_data, test_data, train_labels, test_labels = train_test_split(data, labels)\n",
    "print('Completed!')"
   ]
  },
  {
   "cell_type": "code",
   "execution_count": 31,
   "id": "124b8c24",
   "metadata": {},
   "outputs": [
    {
     "name": "stdout",
     "output_type": "stream",
     "text": [
      "clf: SVC(decision_function_shape='ovo', kernel='linear')\n",
      "score: 0.8989976869699307\n"
     ]
    }
   ],
   "source": [
    "from sklearn.svm import SVC\n",
    "\n",
    "# 线性核\n",
    "clf = SVC(decision_function_shape='ovo', kernel='linear')\n",
    "clf.fit(train_data, train_labels)\n",
    "print('clf:', clf.fit(train_data, train_labels))\n",
    "score = clf.score(test_data, test_labels)\n",
    "print('score:', score)\n",
    "# Dataset_1  0.9674\n",
    "# animal_blood_orginal_classify  1.0\n",
    "# animal_blood_preprocessing_classify 0.9879\n",
    "# Reflective_processed_data_padding 0.8524\n",
    "# Transmissive_processed_data_padding 0.8989"
   ]
  },
  {
   "cell_type": "code",
   "execution_count": 32,
   "id": "db8789f5",
   "metadata": {},
   "outputs": [
    {
     "name": "stdout",
     "output_type": "stream",
     "text": [
      "clf: SVC(decision_function_shape='ovo', kernel='poly')\n",
      "score: 0.8465690053970701\n"
     ]
    }
   ],
   "source": [
    "# 多项式核\n",
    "clf = SVC(decision_function_shape='ovo', kernel='poly')\n",
    "clf.fit(train_data, train_labels)\n",
    "print('clf:', clf.fit(train_data, train_labels))\n",
    "score = clf.score(test_data, test_labels)\n",
    "print('score:', score)\n",
    "\n",
    "# animal_blood_orginal_classify 0.9518\n",
    "# animal_blood_preprocessing_classify 0.3975\n",
    "# Reflective_processed_data_padding 0.6215\n",
    "# Transmissive_processed_data_padding 0.8465"
   ]
  },
  {
   "cell_type": "code",
   "execution_count": 33,
   "id": "a69f3f36",
   "metadata": {},
   "outputs": [
    {
     "name": "stdout",
     "output_type": "stream",
     "text": [
      "clf: SVC(decision_function_shape='ovo', kernel='sigmoid')\n",
      "score: 0.06630686198920586\n"
     ]
    }
   ],
   "source": [
    "# 双曲正切核\n",
    "clf = SVC(decision_function_shape='ovo', kernel='sigmoid')\n",
    "clf.fit(train_data, train_labels)\n",
    "print('clf:', clf.fit(train_data, train_labels))\n",
    "score = clf.score(test_data, test_labels)\n",
    "print('score:', score)\n",
    "\n",
    "# Dataset_1  0.7603\n",
    "# animal_blood_orginal_classify 0.04819\n",
    "# animal_blood_preprocessing_classify 0.2289\n",
    "# Reflective_processed_data_padding 0.00229\n",
    "# Transmissive_processed_data_padding 0.0663"
   ]
  },
  {
   "cell_type": "code",
   "execution_count": 34,
   "id": "717432f6",
   "metadata": {},
   "outputs": [
    {
     "name": "stdout",
     "output_type": "stream",
     "text": [
      "clf: SVC(decision_function_shape='ovo')\n",
      "score: 0.46414803392444104\n"
     ]
    }
   ],
   "source": [
    "# 高斯径向基\n",
    "clf = SVC(decision_function_shape='ovo', kernel='rbf')\n",
    "clf.fit(train_data, train_labels)\n",
    "print('clf:', clf.fit(train_data, train_labels))\n",
    "score = clf.score(test_data, test_labels)\n",
    "print('score:', score)\n",
    "\n",
    "# Dataset_1 0.9160\n",
    "# aniaml_blood_orginal_classify 0.5783\n",
    "# animal_blood_preprocessing_classify 0.6265\n",
    "# Reflective_processed_data_padding 0.3562\n",
    "# Transmissive_processed_data_padding 0.4641"
   ]
  },
  {
   "cell_type": "code",
   "execution_count": 35,
   "id": "82e4047d",
   "metadata": {},
   "outputs": [
    {
     "name": "stdout",
     "output_type": "stream",
     "text": [
      "0.9090208172706246 2.1209508879201926\n"
     ]
    },
    {
     "data": {
      "image/png": "[encoded data removed]",
      "text/plain": [
       "<Figure size 432x288 with 1 Axes>"
      ]
     },
     "metadata": {
      "needs_background": "light"
     },
     "output_type": "display_data"
    }
   ],
   "source": [
    "# 高斯径向基，调节gamma参数\n",
    "score = []\n",
    "gamma_range = np.logspace(-10, 1, 50)\n",
    "for i in gamma_range:\n",
    "    clf = SVC(decision_function_shape='ovo', kernel='rbf', gamma=i).fit(train_data, train_labels)\n",
    "    score.append(clf.score(test_data, test_labels))\n",
    "    \n",
    "print(max(score), gamma_range[score.index(max(score))])\n",
    "plt.plot(gamma_range, score)\n",
    "plt.show()\n",
    "\n",
    "# Dataset_1. 0.0954\n",
    "# animal_blood_orginal_classify 0.0954\n",
    "# animal_blood_preprocessing_classify "
   ]
  },
  {
   "cell_type": "code",
   "execution_count": 36,
   "id": "91ea9a97",
   "metadata": {},
   "outputs": [
    {
     "name": "stdout",
     "output_type": "stream",
     "text": [
      "clf: SVC(kernel='linear')\n",
      "score: 0.8989976869699307\n"
     ]
    }
   ],
   "source": [
    "clf = SVC(decision_function_shape='ovr', kernel='linear')\n",
    "clf.fit(train_data, train_labels)\n",
    "print('clf:', clf.fit(train_data, train_labels))\n",
    "score = clf.score(test_data, test_labels)\n",
    "print('score:', score)\n",
    "\n",
    "# Dataset_1  0.9674\n",
    "# animal_blood_orginal_classify 1.0\n",
    "# animal_blood_preprocessing_classify 0.9879\n",
    "# Reflective_processed_data_padding 0.8524\n",
    "# Transmissive_processed_data_padding 0.8989"
   ]
  },
  {
   "cell_type": "code",
   "execution_count": null,
   "id": "87cefb82",
   "metadata": {},
   "outputs": [],
   "source": []
  }
 ],
 "metadata": {
  "kernelspec": {
   "display_name": "Python 3 (ipykernel)",
   "language": "python",
   "name": "python3"
  },
  "language_info": {
   "codemirror_mode": {
    "name": "ipython",
    "version": 3
   },
   "file_extension": ".py",
   "mimetype": "text/x-python",
   "name": "python",
   "nbconvert_exporter": "python",
   "pygments_lexer": "ipython3",
   "version": "3.9.7"
  }
 },
 "nbformat": 4,
 "nbformat_minor": 5
}
