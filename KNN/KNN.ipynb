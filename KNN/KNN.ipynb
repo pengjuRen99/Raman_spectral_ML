{
 "cells": [
  {
   "cell_type": "code",
   "execution_count": 2,
   "id": "a9987426",
   "metadata": {},
   "outputs": [],
   "source": [
    "import os\n",
    "import numpy as np\n",
    "from sklearn.preprocessing import LabelEncoder\n",
    "from sklearn.model_selection import train_test_split"
   ]
  },
  {
   "cell_type": "code",
   "execution_count": 3,
   "id": "a13ca57b",
   "metadata": {},
   "outputs": [],
   "source": [
    "import matplotlib.pyplot as plt"
   ]
  },
  {
   "cell_type": "code",
   "execution_count": 4,
   "id": "57c89081",
   "metadata": {},
   "outputs": [],
   "source": [
    "def load_spectrum_file(dir_path):\n",
    "    data = []\n",
    "    label = []\n",
    "    file_dir_list = os.listdir(dir_path)\n",
    "    for file_dir in file_dir_list:\n",
    "        file_list = os.listdir(dir_path + '/' + file_dir)\n",
    "        for filename in file_list:\n",
    "            file_path = dir_path + '/' + file_dir + '/' + filename\n",
    "            x, y = np.loadtxt(file_path, dtype=float, comments='#', delimiter=',', unpack=True)\n",
    "            data.append(y)\n",
    "            label.append(file_dir)\n",
    "    return data, label"
   ]
  },
  {
   "cell_type": "code",
   "execution_count": 11,
   "id": "17bcce40",
   "metadata": {},
   "outputs": [
    {
     "name": "stdout",
     "output_type": "stream",
     "text": [
      "Loading data...\n",
      "Completed!\n"
     ]
    }
   ],
   "source": [
    "print('Loading data...')\n",
    "dir_path = '../animal_blood/Transmissive_processed_data_padding'\n",
    "# dir_path = '../Dataset_1'\n",
    "data, label = load_spectrum_file(dir_path)\n",
    "data = np.array(data)\n",
    "le = LabelEncoder()\n",
    "labels = le.fit_transform(label)\n",
    "train_data, test_data, train_labels, test_labels = train_test_split(data, labels)\n",
    "print('Completed!')"
   ]
  },
  {
   "cell_type": "code",
   "execution_count": 12,
   "id": "6c54aefc",
   "metadata": {},
   "outputs": [
    {
     "name": "stdout",
     "output_type": "stream",
     "text": [
      "ypred:\n",
      "[33 46 46 ... 26  7 28]\n",
      "score: 0.8966846569005397\n"
     ]
    }
   ],
   "source": [
    "from sklearn.neighbors import KNeighborsClassifier\n",
    "\n",
    "knn = KNeighborsClassifier(n_neighbors=1)\n",
    "knn.fit(train_data, train_labels)\n",
    "\n",
    "ypred = knn.predict(test_data)\n",
    "\n",
    "score = knn.score(test_data, test_labels)\n",
    "\n",
    "print('ypred:')\n",
    "print(ypred)\n",
    "print('score:', score)\n",
    "\n",
    "# Dataset_1  0.9576\n",
    "# animal_blood_orginal_classify  0.7831\n",
    "# animal_blood_preprocessing_classify  0.9397\n",
    "# Reflective_processed_data_padding  0.9097\n",
    "# Transmissive_processed_data_padding  0.8966"
   ]
  },
  {
   "cell_type": "code",
   "execution_count": null,
   "id": "ff1ce19a",
   "metadata": {},
   "outputs": [],
   "source": []
  }
 ],
 "metadata": {
  "kernelspec": {
   "display_name": "Python 3 (ipykernel)",
   "language": "python",
   "name": "python3"
  },
  "language_info": {
   "codemirror_mode": {
    "name": "ipython",
    "version": 3
   },
   "file_extension": ".py",
   "mimetype": "text/x-python",
   "name": "python",
   "nbconvert_exporter": "python",
   "pygments_lexer": "ipython3",
   "version": "3.9.7"
  }
 },
 "nbformat": 4,
 "nbformat_minor": 5
}
