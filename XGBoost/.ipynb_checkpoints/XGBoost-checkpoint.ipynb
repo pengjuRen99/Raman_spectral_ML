{
 "cells": [
  {
   "cell_type": "code",
   "execution_count": 1,
   "id": "a9aa93f4",
   "metadata": {},
   "outputs": [],
   "source": [
    "import os\n",
    "import numpy as np\n",
    "from sklearn.preprocessing import LabelEncoder\n",
    "from sklearn.model_selection import train_test_split"
   ]
  },
  {
   "cell_type": "code",
   "execution_count": 2,
   "id": "195a614f",
   "metadata": {},
   "outputs": [],
   "source": [
    "import xgboost as xgb\n",
    "import matplotlib.pyplot as plt"
   ]
  },
  {
   "cell_type": "code",
   "execution_count": 3,
   "id": "be8461cb",
   "metadata": {},
   "outputs": [],
   "source": [
    "def load_spectrum_file(dir_path):\n",
    "    data = []\n",
    "    label = []\n",
    "    file_dir_list = os.listdir(dir_path)\n",
    "    for file_dir in file_dir_list:\n",
    "        file_list = os.listdir(dir_path + '/' + file_dir)\n",
    "        for filename in file_list:\n",
    "            file_path = dir_path + '/' + file_dir + '/' + filename\n",
    "            x, y = np.loadtxt(file_path, dtype=float, comments='#', delimiter=',', unpack=True)\n",
    "            data.append(y)\n",
    "            label.append(file_dir)\n",
    "    return data, label"
   ]
  },
  {
   "cell_type": "code",
   "execution_count": 4,
   "id": "27bd2acc",
   "metadata": {},
   "outputs": [
    {
     "name": "stdout",
     "output_type": "stream",
     "text": [
      "Loading data...\n",
      "Completed!\n"
     ]
    }
   ],
   "source": [
    "print('Loading data...')\n",
    "dir_path = '../Dataset_1'\n",
    "data, label = load_spectrum_file(dir_path)\n",
    "data = np.array(data)\n",
    "le = LabelEncoder()\n",
    "labels = le.fit_transform(label)\n",
    "train_data, test_data, train_labels, test_labels = train_test_split(data, labels)\n",
    "print('Completed!')"
   ]
  },
  {
   "cell_type": "code",
   "execution_count": 5,
   "id": "49ace501",
   "metadata": {},
   "outputs": [
    {
     "data": {
      "text/plain": [
       "(3969, 1570)"
      ]
     },
     "execution_count": 5,
     "metadata": {},
     "output_type": "execute_result"
    }
   ],
   "source": [
    "train_data.shape"
   ]
  },
  {
   "cell_type": "code",
   "execution_count": 6,
   "id": "767df11a",
   "metadata": {},
   "outputs": [
    {
     "data": {
      "text/plain": [
       "(3969,)"
      ]
     },
     "execution_count": 6,
     "metadata": {},
     "output_type": "execute_result"
    }
   ],
   "source": [
    "train_labels.shape"
   ]
  },
  {
   "cell_type": "code",
   "execution_count": 7,
   "id": "518736ec",
   "metadata": {},
   "outputs": [
    {
     "data": {
      "image/png": "[encoded data removed]",
      "text/plain": [
       "<Figure size 432x288 with 1 Axes>"
      ]
     },
     "metadata": {
      "needs_background": "light"
     },
     "output_type": "display_data"
    }
   ],
   "source": [
    "x = range(30, 1600)\n",
    "y = train_data[0]\n",
    "plt.plot(x, y, c='red', label='spectrum')\n",
    "plt.legend()\n",
    "plt.show()"
   ]
  },
  {
   "cell_type": "code",
   "execution_count": 8,
   "id": "ecb1fcbf",
   "metadata": {},
   "outputs": [
    {
     "name": "stderr",
     "output_type": "stream",
     "text": [
      "/Users/renpengju/opt/anaconda3/lib/python3.9/site-packages/xgboost/sklearn.py:1224: UserWarning: The use of label encoder in XGBClassifier is deprecated and will be removed in a future release. To remove this warning, do the following: 1) Pass option use_label_encoder=False when constructing XGBClassifier object; and 2) Encode your labels (y) as integers starting with 0, i.e. 0, 1, 2, ..., [num_class - 1].\n",
      "  warnings.warn(label_encoder_deprecation_msg, UserWarning)\n"
     ]
    },
    {
     "name": "stdout",
     "output_type": "stream",
     "text": [
      "[21:56:30] WARNING: ../src/learner.cc:1115: Starting in XGBoost 1.3.0, the default evaluation metric used with the objective 'multi:softprob' was changed from 'merror' to 'mlogloss'. Explicitly set eval_metric if you'd like to restore the old behavior.\n"
     ]
    },
    {
     "data": {
      "text/plain": [
       "0.9191232048374905"
      ]
     },
     "execution_count": 8,
     "metadata": {},
     "output_type": "execute_result"
    }
   ],
   "source": [
    "# sklearn 模式\n",
    "from xgboost import XGBClassifier as XGBC\n",
    "clf = XGBC().fit(train_data, train_labels)\n",
    "ypred = clf.predict(test_data)\n",
    "clf.score(test_data, test_labels)"
   ]
  },
  {
   "cell_type": "code",
   "execution_count": 13,
   "id": "628acea2",
   "metadata": {},
   "outputs": [
    {
     "data": {
      "text/plain": [
       "array([ 11., 147.,  30., ...,  82.,  69., 179.], dtype=float32)"
      ]
     },
     "execution_count": 13,
     "metadata": {},
     "output_type": "execute_result"
    }
   ],
   "source": [
    "# xgboost模式\n",
    "dtrain = xgb.DMatrix(train_data, train_labels)\n",
    "dtest = xgb.DMatrix(test_data, test_labels)\n",
    "\n",
    "param = {'eta': 0.08, 'objective': 'multi:softmax', 'num_class': train_labels.shape[0]\n",
    "        , 'eval_metric': 'mlogloss', }\n",
    "num_round = 100\n",
    "\n",
    "bst = xgb.train(param, dtrain, num_round)\n",
    "preds = bst.predict(dtest)\n",
    "\n",
    "preds"
   ]
  },
  {
   "cell_type": "code",
   "execution_count": 14,
   "id": "2b4c0faf",
   "metadata": {},
   "outputs": [
    {
     "data": {
      "text/plain": [
       "0.9433106575963719"
      ]
     },
     "execution_count": 14,
     "metadata": {},
     "output_type": "execute_result"
    }
   ],
   "source": [
    "# 模型评估指标\n",
    "from sklearn.metrics import accuracy_score as accuracy, recall_score as recall, roc_auc_score as auc\n",
    "\n",
    "accuracy(test_labels, preds)\n",
    "\n",
    "# eta = 0.1    0.9425547996976569"
   ]
  },
  {
   "cell_type": "code",
   "execution_count": null,
   "id": "9f9fd172",
   "metadata": {},
   "outputs": [],
   "source": []
  },
  {
   "cell_type": "code",
   "execution_count": null,
   "id": "c2b82d02",
   "metadata": {},
   "outputs": [],
   "source": []
  }
 ],
 "metadata": {
  "kernelspec": {
   "display_name": "Python 3 (ipykernel)",
   "language": "python",
   "name": "python3"
  },
  "language_info": {
   "codemirror_mode": {
    "name": "ipython",
    "version": 3
   },
   "file_extension": ".py",
   "mimetype": "text/x-python",
   "name": "python",
   "nbconvert_exporter": "python",
   "pygments_lexer": "ipython3",
   "version": "3.9.7"
  }
 },
 "nbformat": 4,
 "nbformat_minor": 5
}
